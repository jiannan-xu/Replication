{
 "cells": [
  {
   "cell_type": "markdown",
   "metadata": {
    "id": "W7f2OZzhALlt"
   },
   "source": [
    "# This colab notebook calcuates the Degree of Explicitness (DoE scores introduced in section 5 of the paper). "
   ]
  },
  {
   "cell_type": "code",
   "execution_count": 1,
   "metadata": {
    "id": "KPajcHiYYxnt"
   },
   "outputs": [
    {
     "name": "stdout",
     "output_type": "stream",
     "text": [
      "Defaulting to user installation because normal site-packages is not writeable\n",
      "Requirement already satisfied: transformers in /home/tintn/.local/lib/python3.8/site-packages (4.28.1)\n",
      "Requirement already satisfied: huggingface-hub<1.0,>=0.11.0 in /home/tintn/.local/lib/python3.8/site-packages (from transformers) (0.13.4)\n",
      "Requirement already satisfied: packaging>=20.0 in /opt/conda/envs/python3/lib/python3.8/site-packages (from transformers) (21.3)\n",
      "Requirement already satisfied: numpy>=1.17 in /home/tintn/.local/lib/python3.8/site-packages (from transformers) (1.24.2)\n",
      "Requirement already satisfied: tokenizers!=0.11.3,<0.14,>=0.11.1 in /home/tintn/.local/lib/python3.8/site-packages (from transformers) (0.13.3)\n",
      "Requirement already satisfied: regex!=2019.12.17 in /home/tintn/.local/lib/python3.8/site-packages (from transformers) (2023.3.23)\n",
      "Requirement already satisfied: tqdm>=4.27 in /home/tintn/.local/lib/python3.8/site-packages (from transformers) (4.65.0)\n",
      "Requirement already satisfied: pyyaml>=5.1 in /home/tintn/.local/lib/python3.8/site-packages (from transformers) (6.0)\n",
      "Requirement already satisfied: requests in /home/tintn/.local/lib/python3.8/site-packages (from transformers) (2.28.2)\n",
      "Requirement already satisfied: filelock in /home/tintn/.local/lib/python3.8/site-packages (from transformers) (3.11.0)\n",
      "Requirement already satisfied: typing-extensions>=3.7.4.3 in /home/tintn/.local/lib/python3.8/site-packages (from huggingface-hub<1.0,>=0.11.0->transformers) (4.5.0)\n",
      "Requirement already satisfied: pyparsing!=3.0.5,>=2.0.2 in /opt/conda/envs/python3/lib/python3.8/site-packages (from packaging>=20.0->transformers) (3.0.9)\n",
      "Requirement already satisfied: charset-normalizer<4,>=2 in /home/tintn/.local/lib/python3.8/site-packages (from requests->transformers) (3.1.0)\n",
      "Requirement already satisfied: urllib3<1.27,>=1.21.1 in /home/tintn/.local/lib/python3.8/site-packages (from requests->transformers) (1.26.15)\n",
      "Requirement already satisfied: idna<4,>=2.5 in /home/tintn/.local/lib/python3.8/site-packages (from requests->transformers) (3.4)\n",
      "Requirement already satisfied: certifi>=2017.4.17 in /opt/conda/envs/python3/lib/python3.8/site-packages (from requests->transformers) (2022.9.24)\n",
      "Note: you may need to restart the kernel to use updated packages.\n"
     ]
    }
   ],
   "source": [
    "pip install transformers"
   ]
  },
  {
   "cell_type": "code",
   "execution_count": 2,
   "metadata": {
    "id": "IfuzEaKBLQbQ"
   },
   "outputs": [],
   "source": [
    "import warnings\n",
    "import pandas as pd\n",
    "import numpy as np\n",
    "np.random.seed(42)\n",
    "\n",
    "%load_ext autoreload\n",
    "%autoreload 2\n",
    "warnings.filterwarnings('ignore')\n",
    "warnings.filterwarnings('ignore')"
   ]
  },
  {
   "cell_type": "code",
   "execution_count": 5,
   "metadata": {
    "id": "6fgSUAdqu3rX"
   },
   "outputs": [
    {
     "name": "stderr",
     "output_type": "stream",
     "text": [
      "Some weights of the model checkpoint at /projects/clue/tin_work/XNLP/Replication/Code/models/exp-Toxic-roberta were not used when initializing RobertaForSequenceClassification: ['roberta.pooler.dense.bias', 'roberta.pooler.dense.weight']\n",
      "- This IS expected if you are initializing RobertaForSequenceClassification from the checkpoint of a model trained on another task or with another architecture (e.g. initializing a BertForSequenceClassification model from a BertForPreTraining model).\n",
      "- This IS NOT expected if you are initializing RobertaForSequenceClassification from the checkpoint of a model that you expect to be exactly identical (initializing a BertForSequenceClassification model from a BertForSequenceClassification model).\n"
     ]
    },
    {
     "ename": "FileNotFoundError",
     "evalue": "[Errno 2] No such file or directory: 'data/random_stopword_tweets.txt'",
     "output_type": "error",
     "traceback": [
      "\u001b[0;31m---------------------------------------------------------------------------\u001b[0m",
      "\u001b[0;31mFileNotFoundError\u001b[0m                         Traceback (most recent call last)",
      "Cell \u001b[0;32mIn [5], line 1\u001b[0m\n\u001b[0;32m----> 1\u001b[0m \u001b[38;5;28;01mfrom\u001b[39;00m \u001b[38;5;21;01mDoE\u001b[39;00m \u001b[38;5;28;01mimport\u001b[39;00m get_DoE\n",
      "File \u001b[0;32m/projects/clue/tin_work/XNLP/Replication/Code/DoE.py:35\u001b[0m\n\u001b[1;32m     22\u001b[0m tokenizer_toxic \u001b[38;5;241m=\u001b[39m RobertaTokenizerFast\u001b[38;5;241m.\u001b[39mfrom_pretrained(model_folder_toxic)\n\u001b[1;32m     24\u001b[0m \u001b[38;5;66;03m#model_folder_Founta = PATH_TO_MODELS+'models/exp-Founta_original_roberta'\u001b[39;00m\n\u001b[1;32m     25\u001b[0m \u001b[38;5;66;03m#model_Founta = RobertaClassifier(model_folder_Founta)\u001b[39;00m\n\u001b[1;32m     26\u001b[0m \u001b[38;5;66;03m#tokenizer_Founta = RobertaTokenizerFast.from_pretrained(model_folder_Founta)\u001b[39;00m\n\u001b[0;32m   (...)\u001b[0m\n\u001b[1;32m     30\u001b[0m \u001b[38;5;66;03m#model_EA = RobertaClassifier(model_folder_EA)\u001b[39;00m\n\u001b[1;32m     31\u001b[0m \u001b[38;5;66;03m#tokenizer_EA = RobertaTokenizerFast.from_pretrained(model_folder_EA)\u001b[39;00m\n\u001b[0;32m---> 35\u001b[0m \u001b[38;5;28;01mwith\u001b[39;00m \u001b[38;5;28;43mopen\u001b[39;49m\u001b[43m(\u001b[49m\u001b[43mPATH_TO_Data\u001b[49m\u001b[38;5;241;43m+\u001b[39;49m\u001b[38;5;124;43m'\u001b[39;49m\u001b[38;5;124;43mdata/random_stopword_tweets.txt\u001b[39;49m\u001b[38;5;124;43m'\u001b[39;49m\u001b[43m,\u001b[49m\u001b[38;5;124;43m'\u001b[39;49m\u001b[38;5;124;43mr\u001b[39;49m\u001b[38;5;124;43m'\u001b[39;49m\u001b[43m)\u001b[49m \u001b[38;5;28;01mas\u001b[39;00m f_:\n\u001b[1;32m     36\u001b[0m   random_examples\u001b[38;5;241m=\u001b[39m f_\u001b[38;5;241m.\u001b[39mread()\u001b[38;5;241m.\u001b[39msplit(\u001b[38;5;124m'\u001b[39m\u001b[38;5;130;01m\\n\u001b[39;00m\u001b[38;5;130;01m\\n\u001b[39;00m\u001b[38;5;124m'\u001b[39m)\n\u001b[1;32m     38\u001b[0m \u001b[38;5;28;01mwith\u001b[39;00m \u001b[38;5;28mopen\u001b[39m(PATH_TO_Data\u001b[38;5;241m+\u001b[39m\u001b[38;5;124m'\u001b[39m\u001b[38;5;124mdata/EA_dev_hostile_explicit.txt\u001b[39m\u001b[38;5;124m'\u001b[39m,\u001b[38;5;124m'\u001b[39m\u001b[38;5;124mr\u001b[39m\u001b[38;5;124m'\u001b[39m) \u001b[38;5;28;01mas\u001b[39;00m f_:\n",
      "\u001b[0;31mFileNotFoundError\u001b[0m: [Errno 2] No such file or directory: 'data/random_stopword_tweets.txt'"
     ]
    }
   ],
   "source": [
    "from DoE import get_DoE"
   ]
  },
  {
   "cell_type": "markdown",
   "metadata": {
    "id": "ZV4nobhLHHlx"
   },
   "source": [
    "#Test\n"
   ]
  },
  {
   "cell_type": "markdown",
   "metadata": {
    "id": "JIHECThQR8RE"
   },
   "source": [
    "The toxicity classifier is a roberta-based binary classifier trained with [Wiki](https://github.com/IsarNejad/cross_dataset_toxicity) dataset, saved at /models/exp-Toxic-roberta. "
   ]
  },
  {
   "cell_type": "code",
   "execution_count": null,
   "metadata": {
    "colab": {
     "base_uri": "https://localhost:8080/"
    },
    "id": "1F810c1HHKaq",
    "outputId": "ce393232-950d-4dd3-8bdd-fa9f564fba3b"
   },
   "outputs": [
    {
     "data": {
      "text/plain": [
       "0.76211"
      ]
     },
     "execution_count": 36,
     "metadata": {
      "tags": []
     },
     "output_type": "execute_result"
    }
   ],
   "source": [
    " doe = get_DoE(classifier = 'toxicity',desired_class = 1,added_example = 'this is a virus made by chinese communist party')\n",
    " doe"
   ]
  },
  {
   "cell_type": "code",
   "execution_count": null,
   "metadata": {
    "colab": {
     "base_uri": "https://localhost:8080/"
    },
    "id": "w9iosMzyKRQA",
    "outputId": "9a6e8faf-8e29-4f41-ac78-d9074412e638"
   },
   "outputs": [
    {
     "data": {
      "text/plain": [
       "0.96782"
      ]
     },
     "execution_count": 34,
     "metadata": {
      "tags": []
     },
     "output_type": "execute_result"
    }
   ],
   "source": [
    "doe = get_DoE(classifier = 'toxicity',desired_class = 1,added_example = 'fucking chinese communist party')\n",
    "doe"
   ]
  }
 ],
 "metadata": {
  "accelerator": "GPU",
  "colab": {
   "collapsed_sections": [],
   "machine_shape": "hm",
   "name": "DoE_example.ipynb",
   "provenance": [],
   "toc_visible": true
  },
  "kernelspec": {
   "display_name": "atm_bert",
   "language": "python",
   "name": "atm_bert"
  },
  "language_info": {
   "codemirror_mode": {
    "name": "ipython",
    "version": 3
   },
   "file_extension": ".py",
   "mimetype": "text/x-python",
   "name": "python",
   "nbconvert_exporter": "python",
   "pygments_lexer": "ipython3",
   "version": "3.8.15"
  }
 },
 "nbformat": 4,
 "nbformat_minor": 4
}
