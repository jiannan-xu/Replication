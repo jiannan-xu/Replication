{
 "cells": [
  {
   "cell_type": "code",
   "execution_count": 1,
   "id": "b9a7b312-3258-4214-8912-8fbbd4b0cf37",
   "metadata": {},
   "outputs": [],
   "source": [
    "import numpy as np\n",
    "import pandas as pd"
   ]
  },
  {
   "cell_type": "markdown",
   "id": "5ce6aa5d-48ab-4fde-8570-8431d33ab1b5",
   "metadata": {},
   "source": [
    "# Read EA CH indexes"
   ]
  },
  {
   "cell_type": "code",
   "execution_count": 2,
   "id": "29be93b1-0fd2-4ca1-8caa-8e8910daf15e",
   "metadata": {},
   "outputs": [],
   "source": [
    "CH_explicit_indexes = pd.read_csv('../Data/CH_Anti_Asian_hate_explicit_indexes.csv')\n",
    "CH_implicit_indexes = pd.read_csv('../Data/CH_Anti_Asian_hate_implicit_indexes.csv')\n",
    "EA_explicit_indexes = pd.read_csv('../Data/EA_dev_hostile_explicit_ids.csv')\n",
    "EA_implicit_indexes = pd.read_csv('../Data/EA_dev_hostile_implicit_ids.csv')"
   ]
  },
  {
   "cell_type": "code",
   "execution_count": 3,
   "id": "30090360-695f-426b-9224-9f335959ad86",
   "metadata": {},
   "outputs": [],
   "source": [
    "CH_annotated_tweets = pd.read_csv('../Data/annotated_tweets_w_text.csv')"
   ]
  },
  {
   "cell_type": "code",
   "execution_count": 4,
   "id": "fff19fd1",
   "metadata": {},
   "outputs": [
    {
     "name": "stdout",
     "output_type": "stream",
     "text": [
      "# of annotated tweets:  2290\n"
     ]
    }
   ],
   "source": [
    "print('# of annotated tweets: ', CH_annotated_tweets.shape[0])"
   ]
  },
  {
   "attachments": {},
   "cell_type": "markdown",
   "id": "d89026b6",
   "metadata": {},
   "source": [
    "- 0: neutral\n",
    "- 1: counterhate\n",
    "- 2: hatespeech"
   ]
  },
  {
   "cell_type": "code",
   "execution_count": 5,
   "id": "920f2c14-afd6-4bda-9cef-5b6ea2ffcc50",
   "metadata": {},
   "outputs": [
    {
     "data": {
      "text/plain": [
       "0    1344\n",
       "1     517\n",
       "2     429\n",
       "Name: label, dtype: int64"
      ]
     },
     "execution_count": 5,
     "metadata": {},
     "output_type": "execute_result"
    }
   ],
   "source": [
    "CH_annotated_tweets['label'].value_counts()"
   ]
  },
  {
   "cell_type": "code",
   "execution_count": 6,
   "id": "4b70f552-2e53-4ce2-aafc-f9c965a739fc",
   "metadata": {},
   "outputs": [],
   "source": [
    "CH_annotated_tweets_explicit = CH_annotated_tweets[CH_annotated_tweets.index.isin(CH_explicit_indexes['index'])]"
   ]
  },
  {
   "cell_type": "code",
   "execution_count": 7,
   "id": "e48e91c2-2bec-421d-9509-732ee94d61d2",
   "metadata": {},
   "outputs": [],
   "source": [
    "CH_annotated_tweets_implicit = CH_annotated_tweets[CH_annotated_tweets.index.isin(CH_implicit_indexes['index'])]"
   ]
  },
  {
   "cell_type": "code",
   "execution_count": 8,
   "id": "8bce8159-70c6-45c1-b722-db23f8f8afc1",
   "metadata": {},
   "outputs": [
    {
     "data": {
      "text/plain": [
       "0    331\n",
       "1    127\n",
       "2     82\n",
       "Name: label, dtype: int64"
      ]
     },
     "execution_count": 8,
     "metadata": {},
     "output_type": "execute_result"
    }
   ],
   "source": [
    "CH_annotated_tweets_explicit['label'].value_counts()"
   ]
  },
  {
   "cell_type": "code",
   "execution_count": 9,
   "id": "b4c2fbbf-e717-4b8c-b51d-90eb695c3d8d",
   "metadata": {},
   "outputs": [
    {
     "data": {
      "text/plain": [
       "0    83\n",
       "1    31\n",
       "2    27\n",
       "Name: label, dtype: int64"
      ]
     },
     "execution_count": 9,
     "metadata": {},
     "output_type": "execute_result"
    }
   ],
   "source": [
    "CH_annotated_tweets_implicit['label'].value_counts()"
   ]
  },
  {
   "cell_type": "code",
   "execution_count": 10,
   "id": "904ede9f",
   "metadata": {},
   "outputs": [
    {
     "data": {
      "text/plain": [
       "array([['Are we still allowed to quote ancient Chinese proverbs, or is that racist? #RacismIsAVirus',\n",
       "        0],\n",
       "       ['CNBC: WHO, Tedros reiterated that the virus could still turn into a pandemic. He urged against fear and panic, adding, \"our greatest enemy right now is not the virus itself. It\\'s fear, rumors and stigma.\" https://t.co/jOVYmu072D  via @GoogleNews',\n",
       "        0],\n",
       "       ['\"The heightened racism experienced by Asian communities is surprising to many people because beliefs in racial progress are widespread in American society.\" @YaleSOM\\'s @mwkraus and @EuniceHEun https://t.co/wUW45bCyp5 #COVID19 #RacismIsAVirus #StrongerTogether #AsianAmericans',\n",
       "        1],\n",
       "       ['Coronavirus and Nepali in China: KP Oli has directed officials to bring back Nepali in Wuhan, China and Keep them s… https://t.co/uH5iEwvyz3',\n",
       "        0],\n",
       "       ['for the last fucking time.... CORONAVIRUS IS NO EXCUSE TO BE RACIST AGAINST ASIANS https://t.co/nBHTadCKzK',\n",
       "        1]], dtype=object)"
      ]
     },
     "execution_count": 10,
     "metadata": {},
     "output_type": "execute_result"
    }
   ],
   "source": [
    "CH_annotated_tweets_explicit.head(5)[['Text','label']].values"
   ]
  },
  {
   "cell_type": "code",
   "execution_count": 11,
   "id": "fb3727e6",
   "metadata": {},
   "outputs": [
    {
     "data": {
      "text/plain": [
       "array([['CCP China doing all types of shady &amp; evil shit: 😴No one bats an eye Trump call a virus started in China the #ChineseVirus: 🤬  #ChinaLiedPeopleDie  #CCPLiedPeopleDied https://t.co/ILAaSA2HRM',\n",
       "        2],\n",
       "       ['We were told by @Stanford Doctor buddy ours January 24 when asked about Wuhan Virus..  \"Prepare for the worst\"  ...and we closed our ad agency on Monday - February 17 and sent everyone home.    China covered this whole Damn thing up and the Fascists in Beijing are Pure Damn Evil! https://t.co/XRpVYXrBDQ',\n",
       "        2],\n",
       "       ['🦠🦠☠️☠️ You are a poor ghost from: Kenya.  Niggas: You took the Chinese government and got blood.  And the virus: $ 20 million: you will be condemned.  God will repay you.  The sky will: Thunder hack your black dog!',\n",
       "        2],\n",
       "       [\"coronavirus is not xenophobic or racist and will get you no matter what. it doesn't give you a reason to be any of those things. this is a pandemic that can and will affect everyone. stop. targeting. asians.\",\n",
       "        0],\n",
       "       ['@MSNBC @CNBC CORONAVIRUS UPDATE:  MUST WATCH VIDEO: BIGGEST WARNING OF YOUR LIFETIME!THERE ISN’T MUCH TIME LEFT! #coronavirus #COVID19 #Coronavirius #COVID #coronavirususa #CoronavirusCoverup #virus #viral #ChinaVirusSesungguhnya #Chine #whotwi   https://t.co/IQpH1yC2sO',\n",
       "        0]], dtype=object)"
      ]
     },
     "execution_count": 11,
     "metadata": {},
     "output_type": "execute_result"
    }
   ],
   "source": [
    "CH_annotated_tweets_implicit.head(5)[['Text','label']].values"
   ]
  },
  {
   "cell_type": "markdown",
   "id": "7ba1976d-5671-4c3b-a864-94302d676edb",
   "metadata": {},
   "source": [
    "# Prepare CH_explicit.txt and CH_implicit.txt"
   ]
  },
  {
   "cell_type": "code",
   "execution_count": 10,
   "id": "f8392671-8372-41da-8a60-63b41ef5a69a",
   "metadata": {},
   "outputs": [],
   "source": [
    "with open('../Data/CH_explicit.txt', 'w') as file:\n",
    "    file.write('\\n\\n'.join(CH_annotated_tweets_explicit['Text']))"
   ]
  },
  {
   "cell_type": "code",
   "execution_count": 11,
   "id": "540c7de4-6591-4e2d-9199-b45858c04eb0",
   "metadata": {},
   "outputs": [],
   "source": [
    "with open('../Data/CH_implicit.txt', 'w') as file:\n",
    "    file.write('\\n\\n'.join(CH_annotated_tweets_implicit['Text']))"
   ]
  },
  {
   "cell_type": "markdown",
   "id": "4528bffe-35ab-484e-9ab3-31a9de97e218",
   "metadata": {
    "tags": []
   },
   "source": [
    "# Prepare random_stopword_tweets.txt\n",
    "Because the authors didn't include this txt file in the repository, I can only try to find some alternative. I found one data that might be a good substitute for this data set (http://help.sentiment140.com/for-students/). Then I included the text of 2000 random tweets, separated by double newlines.\n",
    "\n",
    "The data is a CSV with emoticons removed. Data file format has 6 fields:\n",
    "- 0 - the polarity of the tweet (0 = negative, 2 = neutral, 4 = positive)\n",
    "- 1 - the id of the tweet (2087)\n",
    "- 2 - the date of the tweet (Sat May 16 23:58:44 UTC 2009)\n",
    "- 3 - the query (lyx). If there is no query, then this value is NO_QUERY.\n",
    "- 4 - the user that tweeted (robotickilldozr)\n",
    "- 5 - the text of the tweet (Lyx is cool)"
   ]
  },
  {
   "cell_type": "code",
   "execution_count": null,
   "id": "f8d55cb7",
   "metadata": {},
   "outputs": [],
   "source": [
    "name_col = ['polarity_label','tweet_id','date','query','user','text']\n",
    "tweets_all = pd.read_csv('../Data/training_tweets_sentiments.csv', names=name_col, encoding='latin-1')"
   ]
  },
  {
   "cell_type": "code",
   "execution_count": null,
   "id": "f725ea19-037c-4072-898a-d84e82844733",
   "metadata": {},
   "outputs": [],
   "source": [
    "sample_df = tweets_all.sample(n=2000, random_state=2023)\n",
    "with open('../Data/random_stopword_tweets.txt', 'w') as file:\n",
    "    file.write('\\n\\n'.join(sample_df['text']))"
   ]
  }
 ],
 "metadata": {
  "kernelspec": {
   "display_name": "dl_nlp",
   "language": "python",
   "name": "python3"
  },
  "language_info": {
   "codemirror_mode": {
    "name": "ipython",
    "version": 3
   },
   "file_extension": ".py",
   "mimetype": "text/x-python",
   "name": "python",
   "nbconvert_exporter": "python",
   "pygments_lexer": "ipython3",
   "version": "3.9.13"
  }
 },
 "nbformat": 4,
 "nbformat_minor": 5
}
