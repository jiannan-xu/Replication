{
  "nbformat": 4,
  "nbformat_minor": 0,
  "metadata": {
    "colab": {
      "name": "DoE_example.ipynb",
      "provenance": [],
      "collapsed_sections": [],
      "toc_visible": true,
      "machine_shape": "hm"
    },
    "kernelspec": {
      "name": "python3",
      "display_name": "Python 3"
    },
    "accelerator": "GPU"
  },
  "cells": [
    {
      "cell_type": "markdown",
      "metadata": {
        "id": "W7f2OZzhALlt"
      },
      "source": [
        "This colab notebook calcuates the Degree of Explicitness (DoE scores introduced in section 5 of the paper). "
      ]
    },
    {
      "cell_type": "code",
      "metadata": {
        "id": "KPajcHiYYxnt"
      },
      "source": [
        "pip install transformers"
      ],
      "execution_count": null,
      "outputs": []
    },
    {
      "cell_type": "code",
      "metadata": {
        "id": "IfuzEaKBLQbQ"
      },
      "source": [
        "import warnings\n",
        "import pandas as pd\n",
        "import numpy as np\n",
        "np.random.seed(42)\n",
        "\n",
        "%load_ext autoreload\n",
        "%autoreload 2\n",
        "warnings.filterwarnings('ignore')\n",
        "warnings.filterwarnings('ignore')"
      ],
      "execution_count": null,
      "outputs": []
    },
    {
      "cell_type": "code",
      "metadata": {
        "id": "6fgSUAdqu3rX"
      },
      "source": [
        "from DoE import get_DoE"
      ],
      "execution_count": null,
      "outputs": []
    },
    {
      "cell_type": "markdown",
      "metadata": {
        "id": "ZV4nobhLHHlx"
      },
      "source": [
        "#Test\n"
      ]
    },
    {
      "cell_type": "markdown",
      "source": [
        "The toxicity classifier is a roberta-based binary classifier trained with [Wiki](https://github.com/IsarNejad/cross_dataset_toxicity) dataset, saved at /models/exp-Toxic-roberta. "
      ],
      "metadata": {
        "id": "JIHECThQR8RE"
      }
    },
    {
      "cell_type": "code",
      "metadata": {
        "colab": {
          "base_uri": "https://localhost:8080/"
        },
        "id": "1F810c1HHKaq",
        "outputId": "ce393232-950d-4dd3-8bdd-fa9f564fba3b"
      },
      "source": [
        " doe = get_DoE(classifier = 'toxicity',desired_class = 1,added_example = 'this is a virus made by chinese communist party')\n",
        " doe"
      ],
      "execution_count": null,
      "outputs": [
        {
          "output_type": "execute_result",
          "data": {
            "text/plain": [
              "0.76211"
            ]
          },
          "metadata": {
            "tags": []
          },
          "execution_count": 36
        }
      ]
    },
    {
      "cell_type": "code",
      "metadata": {
        "colab": {
          "base_uri": "https://localhost:8080/"
        },
        "id": "w9iosMzyKRQA",
        "outputId": "9a6e8faf-8e29-4f41-ac78-d9074412e638"
      },
      "source": [
        "doe = get_DoE(classifier = 'toxicity',desired_class = 1,added_example = 'fucking chinese communist party')\n",
        "doe"
      ],
      "execution_count": null,
      "outputs": [
        {
          "output_type": "execute_result",
          "data": {
            "text/plain": [
              "0.96782"
            ]
          },
          "metadata": {
            "tags": []
          },
          "execution_count": 34
        }
      ]
    }
  ]
}
