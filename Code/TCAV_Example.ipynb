{
 "cells": [
  {
   "cell_type": "markdown",
   "metadata": {
    "id": "1Ee4yKYvwjLp"
   },
   "source": [
    "This notebook shows how to calculate the sensitivity of a trained classifier to a human-defined concept (similar to the results in Table 5 of the paper. "
   ]
  },
  {
   "cell_type": "code",
   "execution_count": 1,
   "metadata": {
    "id": "KPajcHiYYxnt"
   },
   "outputs": [
    {
     "name": "stdout",
     "output_type": "stream",
     "text": [
      "Defaulting to user installation because normal site-packages is not writeable\n",
      "Requirement already satisfied: transformers in /home/tintn/.local/lib/python3.8/site-packages (4.28.1)\n",
      "Requirement already satisfied: huggingface-hub<1.0,>=0.11.0 in /home/tintn/.local/lib/python3.8/site-packages (from transformers) (0.13.4)\n",
      "Requirement already satisfied: packaging>=20.0 in /opt/conda/envs/python3/lib/python3.8/site-packages (from transformers) (21.3)\n",
      "Requirement already satisfied: numpy>=1.17 in /home/tintn/.local/lib/python3.8/site-packages (from transformers) (1.24.2)\n",
      "Requirement already satisfied: tqdm>=4.27 in /home/tintn/.local/lib/python3.8/site-packages (from transformers) (4.65.0)\n",
      "Requirement already satisfied: requests in /home/tintn/.local/lib/python3.8/site-packages (from transformers) (2.28.2)\n",
      "Requirement already satisfied: pyyaml>=5.1 in /home/tintn/.local/lib/python3.8/site-packages (from transformers) (6.0)\n",
      "Requirement already satisfied: tokenizers!=0.11.3,<0.14,>=0.11.1 in /home/tintn/.local/lib/python3.8/site-packages (from transformers) (0.13.3)\n",
      "Requirement already satisfied: filelock in /home/tintn/.local/lib/python3.8/site-packages (from transformers) (3.11.0)\n",
      "Requirement already satisfied: regex!=2019.12.17 in /home/tintn/.local/lib/python3.8/site-packages (from transformers) (2023.3.23)\n",
      "Requirement already satisfied: typing-extensions>=3.7.4.3 in /home/tintn/.local/lib/python3.8/site-packages (from huggingface-hub<1.0,>=0.11.0->transformers) (4.5.0)\n",
      "Requirement already satisfied: pyparsing!=3.0.5,>=2.0.2 in /opt/conda/envs/python3/lib/python3.8/site-packages (from packaging>=20.0->transformers) (3.0.9)\n",
      "Requirement already satisfied: charset-normalizer<4,>=2 in /home/tintn/.local/lib/python3.8/site-packages (from requests->transformers) (3.1.0)\n",
      "Requirement already satisfied: urllib3<1.27,>=1.21.1 in /home/tintn/.local/lib/python3.8/site-packages (from requests->transformers) (1.26.15)\n",
      "Requirement already satisfied: idna<4,>=2.5 in /home/tintn/.local/lib/python3.8/site-packages (from requests->transformers) (3.4)\n",
      "Requirement already satisfied: certifi>=2017.4.17 in /opt/conda/envs/python3/lib/python3.8/site-packages (from requests->transformers) (2022.9.24)\n",
      "Note: you may need to restart the kernel to use updated packages.\n"
     ]
    }
   ],
   "source": [
    "pip install transformers"
   ]
  },
  {
   "cell_type": "code",
   "execution_count": 2,
   "metadata": {
    "id": "IfuzEaKBLQbQ"
   },
   "outputs": [],
   "source": [
    "import warnings\n",
    "import pandas as pd\n",
    "import numpy as np\n",
    "np.random.seed(42)\n",
    "warnings.filterwarnings('ignore')\n",
    "warnings.filterwarnings('ignore')\n",
    "%load_ext autoreload\n",
    "\n",
    "%autoreload 2"
   ]
  },
  {
   "cell_type": "code",
   "execution_count": 3,
   "metadata": {
    "id": "ICrJy_2P3nek"
   },
   "outputs": [],
   "source": [
    "from TCAV import get_preds_tcavs"
   ]
  },
  {
   "cell_type": "markdown",
   "metadata": {
    "id": "vZTVMjEY3n1L"
   },
   "source": [
    "# Concept examples"
   ]
  },
  {
   "cell_type": "markdown",
   "metadata": {
    "id": "cxfgFoj7NDKy"
   },
   "source": [
    "Using the [data annotated for explicitness](https://github.com/IsarNejad/TCAV-for-Text-Classifiers/tree/main/Data), create the following text files. Each file include the text of tweets separated by double new lines. "
   ]
  },
  {
   "cell_type": "code",
   "execution_count": 4,
   "metadata": {},
   "outputs": [],
   "source": [
    "PATH_TO_Data = '/projects/clue/tin_work/XNLP/Replication/Data/'\n",
    "PATH_TO_Model = '/projects/clue/tin_work/XNLP/Replication/Code/models/'"
   ]
  },
  {
   "cell_type": "code",
   "execution_count": 5,
   "metadata": {
    "id": "iIiwHxLpZub0"
   },
   "outputs": [],
   "source": [
    "with open(PATH_TO_Data+'CH_implicit.txt','r') as f_:\n",
    "  implicit_racism_hate= f_.read().split('\\n\\n')\n",
    "\n",
    "with open(PATH_TO_Data+'CH_explicit.txt','r') as f_:\n",
    "  explicit_racism_hate= f_.read().split('\\n\\n')"
   ]
  },
  {
   "cell_type": "code",
   "execution_count": 6,
   "metadata": {
    "id": "BSj8EFuyD9jZ"
   },
   "outputs": [],
   "source": [
    "explicit = [explicit_racism_hate[i] for i in list(np.random.choice(len(explicit_racism_hate),86))]"
   ]
  },
  {
   "cell_type": "code",
   "execution_count": 7,
   "metadata": {
    "id": "EUHEYb56ywkf"
   },
   "outputs": [],
   "source": [
    "implicit_CH = implicit_racism_hate[:100]"
   ]
  },
  {
   "cell_type": "markdown",
   "metadata": {
    "id": "Cp5z39Zz4JYR"
   },
   "source": [
    "# Results "
   ]
  },
  {
   "cell_type": "markdown",
   "metadata": {
    "id": "bVxFrEeeOMGh"
   },
   "source": [
    "The toxicity classifier is a roberta-based binary classifier trained with [Wiki](https://github.com/IsarNejad/cross_dataset_toxicity) dataset, saved at /models/exp-Toxic-roberta. "
   ]
  },
  {
   "cell_type": "markdown",
   "metadata": {},
   "source": [
    "Replicate some results in Table 5: Means and standard deviations of TCAV score distributions for the positive class of the five classifiers"
   ]
  },
  {
   "cell_type": "code",
   "execution_count": 8,
   "metadata": {},
   "outputs": [
    {
     "name": "stderr",
     "output_type": "stream",
     "text": [
      "Some weights of the model checkpoint at /projects/clue/tin_work/XNLP/Replication/Code/models/exp-Toxic-roberta were not used when initializing RobertaForSequenceClassification: ['roberta.pooler.dense.bias', 'roberta.pooler.dense.weight']\n",
      "- This IS expected if you are initializing RobertaForSequenceClassification from the checkpoint of a model trained on another task or with another architecture (e.g. initializing a BertForSequenceClassification model from a BertForPreTraining model).\n",
      "- This IS NOT expected if you are initializing RobertaForSequenceClassification from the checkpoint of a model that you expect to be exactly identical (initializing a BertForSequenceClassification model from a BertForSequenceClassification model).\n"
     ]
    },
    {
     "name": "stdout",
     "output_type": "stream",
     "text": [
      "calculating cavs...\n",
      "calculating logits and grads...\n",
      "TCAV score for the concept: \n",
      "0.46342449999999996 0.4715797282005981\n"
     ]
    }
   ],
   "source": [
    "logits,sensitivity,TCAV = get_preds_tcavs(classifier = 'toxicity',desired_class = 1,examples_set = 'random',concept_examples = explicit,num_runs=1000)"
   ]
  },
  {
   "cell_type": "code",
   "execution_count": 9,
   "metadata": {
    "colab": {
     "base_uri": "https://localhost:8080/"
    },
    "id": "R4LbKERazxJt",
    "outputId": "628fc080-8e39-4655-b200-076c3991c267"
   },
   "outputs": [
    {
     "name": "stderr",
     "output_type": "stream",
     "text": [
      "Some weights of the model checkpoint at /projects/clue/tin_work/XNLP/Replication/Code/models/exp-Toxic-roberta were not used when initializing RobertaForSequenceClassification: ['roberta.pooler.dense.bias', 'roberta.pooler.dense.weight']\n",
      "- This IS expected if you are initializing RobertaForSequenceClassification from the checkpoint of a model trained on another task or with another architecture (e.g. initializing a BertForSequenceClassification model from a BertForPreTraining model).\n",
      "- This IS NOT expected if you are initializing RobertaForSequenceClassification from the checkpoint of a model that you expect to be exactly identical (initializing a BertForSequenceClassification model from a BertForSequenceClassification model).\n"
     ]
    },
    {
     "name": "stdout",
     "output_type": "stream",
     "text": [
      "calculating cavs...\n",
      "calculating logits and grads...\n",
      "TCAV score for the concept: \n",
      "0.475932 0.4754766822631789\n"
     ]
    }
   ],
   "source": [
    "logits,sensitivity,TCAV = get_preds_tcavs(classifier = 'toxicity',desired_class = 1,examples_set = 'random',concept_examples = implicit_CH,num_runs=1000)"
   ]
  }
 ],
 "metadata": {
  "accelerator": "GPU",
  "colab": {
   "collapsed_sections": [],
   "machine_shape": "hm",
   "name": "TCAV Example.ipynb",
   "provenance": []
  },
  "kernelspec": {
   "display_name": "atm_bert",
   "language": "python",
   "name": "atm_bert"
  },
  "language_info": {
   "codemirror_mode": {
    "name": "ipython",
    "version": 3
   },
   "file_extension": ".py",
   "mimetype": "text/x-python",
   "name": "python",
   "nbconvert_exporter": "python",
   "pygments_lexer": "ipython3",
   "version": "3.8.15"
  }
 },
 "nbformat": 4,
 "nbformat_minor": 4
}
